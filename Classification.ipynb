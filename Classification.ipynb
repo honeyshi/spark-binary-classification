{
  "nbformat": 4,
  "nbformat_minor": 0,
  "metadata": {
    "colab": {
      "name": "BigData-Spark.ipynb",
      "provenance": []
    },
    "kernelspec": {
      "name": "python3",
      "display_name": "Python 3"
    },
    "language_info": {
      "name": "python"
    }
  },
  "cells": [
    {
      "cell_type": "markdown",
      "source": [
        "### Initial settings"
      ],
      "metadata": {
        "id": "68XRll9Tuqjt"
      }
    },
    {
      "cell_type": "code",
      "source": [
        "from google.colab import drive\n",
        "drive.mount('/content/drive')"
      ],
      "metadata": {
        "colab": {
          "base_uri": "https://localhost:8080/"
        },
        "id": "FzsfAf9esn3G",
        "outputId": "b03d094a-f6d4-4d1d-be05-52cb36d0ad36"
      },
      "execution_count": 1,
      "outputs": [
        {
          "output_type": "stream",
          "name": "stdout",
          "text": [
            "Mounted at /content/drive\n"
          ]
        }
      ]
    },
    {
      "cell_type": "code",
      "source": [
        "path_to_drive = '/content/drive/MyDrive/data/'\n",
        "path_to_file = path_to_drive + 'weatherAUS.csv'"
      ],
      "metadata": {
        "id": "jlSPWZYRsgTb"
      },
      "execution_count": 2,
      "outputs": []
    },
    {
      "cell_type": "code",
      "source": [
        "!apt update"
      ],
      "metadata": {
        "id": "M6Fnd0xgYMXk"
      },
      "execution_count": null,
      "outputs": []
    },
    {
      "cell_type": "code",
      "metadata": {
        "id": "TFczJYSZYtha"
      },
      "source": [
        "!apt-get install openjdk-8-jdk-headless -qq > /dev/null\n",
        "!wget -q https://dlcdn.apache.org/spark/spark-3.2.0/spark-3.2.0-bin-hadoop3.2.tgz\n",
        "!tar xf spark-3.2.0-bin-hadoop3.2.tgz"
      ],
      "execution_count": 4,
      "outputs": []
    },
    {
      "cell_type": "code",
      "metadata": {
        "id": "bcJX01aoa4ZZ"
      },
      "source": [
        "import os\n",
        "os.environ[\"JAVA_HOME\"] = \"/usr/lib/jvm/java-8-openjdk-amd64\"\n",
        "os.environ[\"SPARK_HOME\"] = \"/content/spark-3.2.0-bin-hadoop3.2\""
      ],
      "execution_count": 5,
      "outputs": []
    },
    {
      "cell_type": "code",
      "metadata": {
        "id": "JsrPVLwda_p3"
      },
      "source": [
        "!pip install -q findspark"
      ],
      "execution_count": 6,
      "outputs": []
    },
    {
      "cell_type": "code",
      "metadata": {
        "id": "Ha3qBxv0bFj2"
      },
      "source": [
        "import findspark\n",
        "findspark.init()\n",
        "from pyspark.sql import SparkSession\n",
        "spark = SparkSession.builder.master(\"local[*]\").appName(\"Classification-Australia-Weather\").getOrCreate()"
      ],
      "execution_count": 7,
      "outputs": []
    },
    {
      "cell_type": "markdown",
      "source": [
        "### Dataset ☔"
      ],
      "metadata": {
        "id": "NPSC6ivzwJpd"
      }
    },
    {
      "cell_type": "markdown",
      "source": [
        "**Rain in Australia**\n",
        "\n",
        "Predict next-day rain in Australia\n",
        "\n",
        "This dataset contains about 10 years of daily weather observations from many locations across Australia.\n",
        "\n",
        "RainTomorrow is the target variable to predict. It means -- did it rain the next day, Yes or No? This column is Yes if the rain for that day was 1mm or more.\n",
        "\n",
        "**Column meanings:**\n",
        "\n",
        "`Date` - Day of the month\n",
        "\n",
        "`Location` - Place where observations were collected\n",
        "\n",
        "`MinTemp` - Minimum temperature in the 24 hours to 9am. Sometimes only known to the nearest whole degree.\n",
        "\n",
        "`MaxTemp` - Maximum temperature in the 24 hours to 9am. Sometimes only known to the nearest whole degree.\n",
        "\n",
        "`Rainfall` - Precipitation (rainfall) in the 24 hours to 9am. Sometimes only known to the nearest whole millimetre.\n",
        "\n",
        "`Evaporation` - \"Class A\" pan evaporation in the 24 hours to 9am\n",
        "\n",
        "`Sunshine` - \tBright sunshine in the 24 hours to midnight\n",
        "\n",
        "`Max wind gust`\t\n",
        "* Dirn -\tDirection of strongest gust in the 24 hours to midnight\n",
        "* Spd -\tSpeed of strongest wind gust in the 24 hours to midnight\n",
        "\n",
        "`9 am`\n",
        "* Temp - Temperature at 9 am\n",
        "* Humidity - Relative humidity at 9 am\n",
        "* Cloud -\tFraction of sky obscured by cloud at 9 am\n",
        "* Wind Direction - Wind direction averaged over 10 minutes prior to 9 am\n",
        "* Wind Speed - Wind speed averaged over 10 minutes prior to 9 am\n",
        "* Pressure - Atmospheric pressure reduced to mean sea level at 9 am\n",
        "\n",
        "`3 pm`\n",
        "* Temp - Temperature at 3 pm\n",
        "* Humidity - Relative humidity at 3 pm\n",
        "* Cloud - Fraction of sky obscured by cloud at 3 pm\n",
        "* Wind Direction - Wind direction averaged over 10 minutes prior to 3 pm\n",
        "* Wind Speed - Wind speed averaged over 10 minutes prior to 3 pm\n",
        "* Pressure - Atmospheric pressure reduced to mean sea level at 3 pm\n",
        "\n",
        "\n",
        "\n",
        "\n",
        "\n",
        "\n"
      ],
      "metadata": {
        "id": "O9xNK98nwkkp"
      }
    },
    {
      "cell_type": "markdown",
      "source": [
        "### Classification with Spark"
      ],
      "metadata": {
        "id": "M50dpBZnuvZK"
      }
    },
    {
      "cell_type": "code",
      "source": [
        "from pyspark.sql.functions import isnan, when, count, col\n",
        "from pyspark.sql.types import StructType, StringType, FloatType, DateType\n",
        "\n",
        "import matplotlib.pyplot as plt\n",
        "import seaborn as sns\n",
        "%matplotlib inline\n",
        "sns.set_theme()"
      ],
      "metadata": {
        "id": "Cd1RZoJLzhUY"
      },
      "execution_count": 198,
      "outputs": []
    },
    {
      "cell_type": "code",
      "source": [
        "schema = StructType() \\\n",
        "      .add(\"Date\", DateType(), True) \\\n",
        "      .add(\"Location\", StringType(), True) \\\n",
        "      .add(\"MinTemp\", FloatType(), True) \\\n",
        "      .add(\"MaxTemp\", FloatType(), True) \\\n",
        "      .add(\"Rainfall\", FloatType(), True) \\\n",
        "      .add(\"Evaporation\", FloatType(), True) \\\n",
        "      .add(\"Sunshine\", FloatType(), True) \\\n",
        "      .add(\"WindGustDir\", StringType(),True) \\\n",
        "      .add(\"WindGustSpeed\", FloatType(), True) \\\n",
        "      .add(\"WindDir9am\", StringType(), True) \\\n",
        "      .add(\"WindDir3pm\", StringType(), True) \\\n",
        "      .add(\"WindSpeed9am\", FloatType(), True) \\\n",
        "      .add(\"WindSpeed3pm\", FloatType(), True) \\\n",
        "      .add(\"Humidity9am\", FloatType(), True) \\\n",
        "      .add(\"Humidity3pm\", FloatType(), True) \\\n",
        "      .add(\"Pressure9am\", FloatType(), True) \\\n",
        "      .add(\"Pressure3pm\", FloatType(), True) \\\n",
        "      .add(\"Cloud9am\", FloatType(), True) \\\n",
        "      .add(\"Cloud3pm\", FloatType(), True) \\\n",
        "      .add(\"Temp9am\", FloatType(), True) \\\n",
        "      .add(\"Temp3pm\", FloatType(), True) \\\n",
        "      .add(\"RainToday\", StringType(), True) \\\n",
        "      .add(\"RainTomorrow\", StringType(), True)"
      ],
      "metadata": {
        "id": "hiPV9yvjllQJ"
      },
      "execution_count": 199,
      "outputs": []
    },
    {
      "cell_type": "code",
      "source": [
        "weather_df = spark.read.option(\"header\", True).csv(path=path_to_file, schema=schema).cache()"
      ],
      "metadata": {
        "id": "20uN35m1sZg1"
      },
      "execution_count": 200,
      "outputs": []
    },
    {
      "cell_type": "code",
      "source": [
        "print((weather_df.count(), len(weather_df.columns)))"
      ],
      "metadata": {
        "colab": {
          "base_uri": "https://localhost:8080/"
        },
        "id": "ALlcwdVk1Ytv",
        "outputId": "3b3b2a58-d4f0-45f9-c032-22ee133c3eb4"
      },
      "execution_count": 201,
      "outputs": [
        {
          "output_type": "stream",
          "name": "stdout",
          "text": [
            "(145460, 23)\n"
          ]
        }
      ]
    },
    {
      "cell_type": "code",
      "source": [
        "weather_df.show(5)"
      ],
      "metadata": {
        "colab": {
          "base_uri": "https://localhost:8080/"
        },
        "id": "dFu5ECb_vElX",
        "outputId": "50368f7f-1e88-45c5-acbd-3ac154048a72"
      },
      "execution_count": 202,
      "outputs": [
        {
          "output_type": "stream",
          "name": "stdout",
          "text": [
            "+----------+--------+-------+-------+--------+-----------+--------+-----------+-------------+----------+----------+------------+------------+-----------+-----------+-----------+-----------+--------+--------+-------+-------+---------+------------+\n",
            "|      Date|Location|MinTemp|MaxTemp|Rainfall|Evaporation|Sunshine|WindGustDir|WindGustSpeed|WindDir9am|WindDir3pm|WindSpeed9am|WindSpeed3pm|Humidity9am|Humidity3pm|Pressure9am|Pressure3pm|Cloud9am|Cloud3pm|Temp9am|Temp3pm|RainToday|RainTomorrow|\n",
            "+----------+--------+-------+-------+--------+-----------+--------+-----------+-------------+----------+----------+------------+------------+-----------+-----------+-----------+-----------+--------+--------+-------+-------+---------+------------+\n",
            "|2008-12-01|  Albury|   13.4|   22.9|     0.6|       null|    null|          W|         44.0|         W|       WNW|        20.0|        24.0|       71.0|       22.0|     1007.7|     1007.1|     8.0|    null|   16.9|   21.8|       No|          No|\n",
            "|2008-12-02|  Albury|    7.4|   25.1|     0.0|       null|    null|        WNW|         44.0|       NNW|       WSW|         4.0|        22.0|       44.0|       25.0|     1010.6|     1007.8|    null|    null|   17.2|   24.3|       No|          No|\n",
            "|2008-12-03|  Albury|   12.9|   25.7|     0.0|       null|    null|        WSW|         46.0|         W|       WSW|        19.0|        26.0|       38.0|       30.0|     1007.6|     1008.7|    null|     2.0|   21.0|   23.2|       No|          No|\n",
            "|2008-12-04|  Albury|    9.2|   28.0|     0.0|       null|    null|         NE|         24.0|        SE|         E|        11.0|         9.0|       45.0|       16.0|     1017.6|     1012.8|    null|    null|   18.1|   26.5|       No|          No|\n",
            "|2008-12-05|  Albury|   17.5|   32.3|     1.0|       null|    null|          W|         41.0|       ENE|        NW|         7.0|        20.0|       82.0|       33.0|     1010.8|     1006.0|     7.0|     8.0|   17.8|   29.7|       No|          No|\n",
            "+----------+--------+-------+-------+--------+-----------+--------+-----------+-------------+----------+----------+------------+------------+-----------+-----------+-----------+-----------+--------+--------+-------+-------+---------+------------+\n",
            "only showing top 5 rows\n",
            "\n"
          ]
        }
      ]
    },
    {
      "cell_type": "code",
      "source": [
        "weather_df.printSchema()"
      ],
      "metadata": {
        "colab": {
          "base_uri": "https://localhost:8080/"
        },
        "id": "w6qz26vzxU43",
        "outputId": "0a5bb3bf-49b6-4d2a-ec0d-ff6574722912"
      },
      "execution_count": 203,
      "outputs": [
        {
          "output_type": "stream",
          "name": "stdout",
          "text": [
            "root\n",
            " |-- Date: date (nullable = true)\n",
            " |-- Location: string (nullable = true)\n",
            " |-- MinTemp: float (nullable = true)\n",
            " |-- MaxTemp: float (nullable = true)\n",
            " |-- Rainfall: float (nullable = true)\n",
            " |-- Evaporation: float (nullable = true)\n",
            " |-- Sunshine: float (nullable = true)\n",
            " |-- WindGustDir: string (nullable = true)\n",
            " |-- WindGustSpeed: float (nullable = true)\n",
            " |-- WindDir9am: string (nullable = true)\n",
            " |-- WindDir3pm: string (nullable = true)\n",
            " |-- WindSpeed9am: float (nullable = true)\n",
            " |-- WindSpeed3pm: float (nullable = true)\n",
            " |-- Humidity9am: float (nullable = true)\n",
            " |-- Humidity3pm: float (nullable = true)\n",
            " |-- Pressure9am: float (nullable = true)\n",
            " |-- Pressure3pm: float (nullable = true)\n",
            " |-- Cloud9am: float (nullable = true)\n",
            " |-- Cloud3pm: float (nullable = true)\n",
            " |-- Temp9am: float (nullable = true)\n",
            " |-- Temp3pm: float (nullable = true)\n",
            " |-- RainToday: string (nullable = true)\n",
            " |-- RainTomorrow: string (nullable = true)\n",
            "\n"
          ]
        }
      ]
    },
    {
      "cell_type": "markdown",
      "source": [
        "Dataset contains NA values as missing values so replace it with None for Pyspark"
      ],
      "metadata": {
        "id": "x9ZxNkp7MV_v"
      }
    },
    {
      "cell_type": "code",
      "source": [
        "weather_df = weather_df.replace({'NA': None})"
      ],
      "metadata": {
        "id": "VciSkNz90cS3"
      },
      "execution_count": 204,
      "outputs": []
    },
    {
      "cell_type": "markdown",
      "source": [
        "Target variable may contain missing value so drop such columns"
      ],
      "metadata": {
        "id": "SKnPFcTqMnZO"
      }
    },
    {
      "cell_type": "code",
      "source": [
        "weather_df = weather_df.na.drop(subset=[\"RainTomorrow\"])"
      ],
      "metadata": {
        "id": "PuDClnxnkXPS"
      },
      "execution_count": 205,
      "outputs": []
    },
    {
      "cell_type": "markdown",
      "source": [
        "#### Explore `RainTomorrow` target variable"
      ],
      "metadata": {
        "id": "cJKYNBoFqcOE"
      }
    },
    {
      "cell_type": "code",
      "source": [
        "rainTomorrow = weather_df.select(\"RainTomorrow\").toPandas()"
      ],
      "metadata": {
        "id": "5oy-2C-WpqEr"
      },
      "execution_count": 206,
      "outputs": []
    },
    {
      "cell_type": "code",
      "source": [
        "rainTomorrow['RainTomorrow'].nunique()"
      ],
      "metadata": {
        "colab": {
          "base_uri": "https://localhost:8080/"
        },
        "id": "GxO9Gc0ArDjp",
        "outputId": "387fc90c-3cfa-4cc6-ac0e-ba9c3a71c510"
      },
      "execution_count": 207,
      "outputs": [
        {
          "output_type": "execute_result",
          "data": {
            "text/plain": [
              "2"
            ]
          },
          "metadata": {},
          "execution_count": 207
        }
      ]
    },
    {
      "cell_type": "code",
      "source": [
        "rainTomorrow['RainTomorrow'].unique()"
      ],
      "metadata": {
        "colab": {
          "base_uri": "https://localhost:8080/"
        },
        "id": "hJe9ORCerHpz",
        "outputId": "771bb396-a517-4b8d-c08c-a62efd56d410"
      },
      "execution_count": 208,
      "outputs": [
        {
          "output_type": "execute_result",
          "data": {
            "text/plain": [
              "array(['No', 'Yes'], dtype=object)"
            ]
          },
          "metadata": {},
          "execution_count": 208
        }
      ]
    },
    {
      "cell_type": "code",
      "source": [
        "rainTomorrow['RainTomorrow'].value_counts()"
      ],
      "metadata": {
        "colab": {
          "base_uri": "https://localhost:8080/"
        },
        "id": "6vkdmH81rMAZ",
        "outputId": "28991fc7-fec7-402e-8963-b4c5dafe951b"
      },
      "execution_count": 209,
      "outputs": [
        {
          "output_type": "execute_result",
          "data": {
            "text/plain": [
              "No     110316\n",
              "Yes     31877\n",
              "Name: RainTomorrow, dtype: int64"
            ]
          },
          "metadata": {},
          "execution_count": 209
        }
      ]
    },
    {
      "cell_type": "code",
      "source": [
        "rainTomorrow['RainTomorrow'].value_counts() / weather_df.count()"
      ],
      "metadata": {
        "colab": {
          "base_uri": "https://localhost:8080/"
        },
        "id": "ywNkQDQ0rN-b",
        "outputId": "4a3d7514-f0f8-4fa7-c89d-4d4dd6a3102a"
      },
      "execution_count": 210,
      "outputs": [
        {
          "output_type": "execute_result",
          "data": {
            "text/plain": [
              "No     0.775819\n",
              "Yes    0.224181\n",
              "Name: RainTomorrow, dtype: float64"
            ]
          },
          "metadata": {},
          "execution_count": 210
        }
      ]
    },
    {
      "cell_type": "code",
      "source": [
        "f, ax = plt.subplots(figsize=(6, 8))\n",
        "ax = sns.countplot(x=\"RainTomorrow\", data=rainTomorrow)\n",
        "plt.show()"
      ],
      "metadata": {
        "colab": {
          "base_uri": "https://localhost:8080/",
          "height": 502
        },
        "id": "m6b0mmIlpMKu",
        "outputId": "b573455a-01f6-4944-ee9a-ffcc5fa98987"
      },
      "execution_count": 211,
      "outputs": [
        {
          "output_type": "display_data",
          "data": {
            "image/png": "[encoded data removed]",
            "text/plain": [
              "<Figure size 432x576 with 1 Axes>"
            ]
          },
          "metadata": {}
        }
      ]
    },
    {
      "cell_type": "markdown",
      "source": [
        "`RainTomorrow` contains two classes Yes and No. Classes are not balanced, No class prevails over Yes."
      ],
      "metadata": {
        "id": "YKqY70KVNN6Z"
      }
    },
    {
      "cell_type": "markdown",
      "source": [
        "#### Explore categorical variables"
      ],
      "metadata": {
        "id": "2S_31x85sdJl"
      }
    },
    {
      "cell_type": "code",
      "source": [
        "categorical_columns_names = [column[0] for column in weather_df.dtypes if column[1] == 'string']"
      ],
      "metadata": {
        "id": "lBhpiS3asgDL"
      },
      "execution_count": 212,
      "outputs": []
    },
    {
      "cell_type": "code",
      "source": [
        "categorical_columns = weather_df.select(categorical_columns_names).toPandas()"
      ],
      "metadata": {
        "id": "2tGUgWOLtDFs"
      },
      "execution_count": 213,
      "outputs": []
    },
    {
      "cell_type": "code",
      "source": [
        "categorical_columns.isnull().sum()"
      ],
      "metadata": {
        "colab": {
          "base_uri": "https://localhost:8080/"
        },
        "id": "Qbmr1pi6tITF",
        "outputId": "91bb1a0b-9ee7-43b8-c681-a7700650113c"
      },
      "execution_count": 214,
      "outputs": [
        {
          "output_type": "execute_result",
          "data": {
            "text/plain": [
              "Location            0\n",
              "WindGustDir      9330\n",
              "WindDir9am      10013\n",
              "WindDir3pm       3778\n",
              "RainToday        1406\n",
              "RainTomorrow        0\n",
              "dtype: int64"
            ]
          },
          "metadata": {},
          "execution_count": 214
        }
      ]
    },
    {
      "cell_type": "code",
      "source": [
        "fig, ax = plt.subplots(figsize=(30, 10))\n",
        "\n",
        "ax = sns.countplot(x=\"Location\", data=categorical_columns)\n",
        "plt.show()"
      ],
      "metadata": {
        "colab": {
          "base_uri": "https://localhost:8080/",
          "height": 452
        },
        "id": "e5eioP1htj52",
        "outputId": "47708f57-991d-4a30-81c3-1494d8629c85"
      },
      "execution_count": 215,
      "outputs": [
        {
          "output_type": "display_data",
          "data": {
            "image/png": "[encoded data removed]",
            "text/plain": [
              "<Figure size 2160x720 with 1 Axes>"
            ]
          },
          "metadata": {}
        }
      ]
    },
    {
      "cell_type": "code",
      "source": [
        "fig, ax = plt.subplots(figsize=(30, 10))\n",
        "\n",
        "ax = sns.countplot(x=\"WindGustDir\", data=categorical_columns)\n",
        "plt.show()"
      ],
      "metadata": {
        "colab": {
          "base_uri": "https://localhost:8080/",
          "height": 450
        },
        "id": "q5eQEO8Guah2",
        "outputId": "ef56649f-a496-4fc4-e341-a2ab34c06681"
      },
      "execution_count": 216,
      "outputs": [
        {
          "output_type": "display_data",
          "data": {
            "image/png": "[encoded data removed]",
            "text/plain": [
              "<Figure size 2160x720 with 1 Axes>"
            ]
          },
          "metadata": {}
        }
      ]
    },
    {
      "cell_type": "code",
      "source": [
        "fig, ax = plt.subplots(figsize=(30, 10))\n",
        "\n",
        "ax = sns.countplot(x=\"WindDir9am\", data=categorical_columns)\n",
        "plt.show()"
      ],
      "metadata": {
        "colab": {
          "base_uri": "https://localhost:8080/",
          "height": 450
        },
        "id": "QUfvyCbwumJD",
        "outputId": "eefd3f45-bec7-4f21-d873-329c11572d52"
      },
      "execution_count": 217,
      "outputs": [
        {
          "output_type": "display_data",
          "data": {
            "image/png": "[encoded data removed]",
            "text/plain": [
              "<Figure size 2160x720 with 1 Axes>"
            ]
          },
          "metadata": {}
        }
      ]
    },
    {
      "cell_type": "code",
      "source": [
        "fig, ax = plt.subplots(figsize=(30, 10))\n",
        "\n",
        "sns.countplot(x=\"WindDir3pm\", data=categorical_columns)\n",
        "plt.show()"
      ],
      "metadata": {
        "colab": {
          "base_uri": "https://localhost:8080/",
          "height": 450
        },
        "id": "ZZ56gGrx45S4",
        "outputId": "6408a713-8bd6-40d0-ac4b-ce9a9d4ee403"
      },
      "execution_count": 218,
      "outputs": [
        {
          "output_type": "display_data",
          "data": {
            "image/png": "[encoded data removed]",
            "text/plain": [
              "<Figure size 2160x720 with 1 Axes>"
            ]
          },
          "metadata": {}
        }
      ]
    },
    {
      "cell_type": "code",
      "source": [
        "fig, ax = plt.subplots(figsize=(10, 5))\n",
        "\n",
        "sns.countplot(x=\"RainToday\", data=categorical_columns)\n",
        "plt.show()"
      ],
      "metadata": {
        "colab": {
          "base_uri": "https://localhost:8080/",
          "height": 339
        },
        "id": "oL2isveh5qi_",
        "outputId": "0a453763-2e72-4d7f-a0d9-f4c6139e2027"
      },
      "execution_count": 219,
      "outputs": [
        {
          "output_type": "display_data",
          "data": {
            "image/png": "[encoded data removed]",
            "text/plain": [
              "<Figure size 720x360 with 1 Axes>"
            ]
          },
          "metadata": {}
        }
      ]
    },
    {
      "cell_type": "markdown",
      "source": [
        "**Number of labels:**\n",
        "\n",
        "Check number of labels and preprocess columns with many different values"
      ],
      "metadata": {
        "id": "svpgpRYB7qiF"
      }
    },
    {
      "cell_type": "code",
      "source": [
        "for column in categorical_columns_names:\n",
        "    print(column, ' contains ', len(categorical_columns[column].unique()), ' labels')"
      ],
      "metadata": {
        "colab": {
          "base_uri": "https://localhost:8080/"
        },
        "id": "VfLxFgTN742F",
        "outputId": "32d9d5d8-400d-4682-902a-a028667f2036"
      },
      "execution_count": 220,
      "outputs": [
        {
          "output_type": "stream",
          "name": "stdout",
          "text": [
            "Location  contains  49  labels\n",
            "WindGustDir  contains  17  labels\n",
            "WindDir9am  contains  17  labels\n",
            "WindDir3pm  contains  17  labels\n",
            "RainToday  contains  3  labels\n",
            "RainTomorrow  contains  2  labels\n"
          ]
        }
      ]
    },
    {
      "cell_type": "markdown",
      "source": [
        "Number of labels in categorical columns is acceptable, but there are a lot of values in `Date` column due to it represent date of observation. So we can split this feature to year, month, day and day of week."
      ],
      "metadata": {
        "id": "K3CNbtXjOGAK"
      }
    },
    {
      "cell_type": "code",
      "source": [
        "from pyspark.sql.functions import year, month, dayofmonth, dayofweek"
      ],
      "metadata": {
        "id": "ofNDrt1uAGr8"
      },
      "execution_count": 221,
      "outputs": []
    },
    {
      "cell_type": "code",
      "source": [
        "weather_df = (weather_df.withColumn(\"Year\", year(\"Date\")).withColumn(\"Month\", month(\"Date\")).withColumn(\"Day\", dayofweek(\"Date\")).withColumn(\"DayOfWeek\", dayofweek(\"Date\")))"
      ],
      "metadata": {
        "id": "YbkGhHkK-sah"
      },
      "execution_count": 222,
      "outputs": []
    },
    {
      "cell_type": "code",
      "source": [
        "weather_df = weather_df.drop('Date')"
      ],
      "metadata": {
        "id": "uMj__a5aDIsm"
      },
      "execution_count": 223,
      "outputs": []
    },
    {
      "cell_type": "code",
      "source": [
        "weather_df.show(5)"
      ],
      "metadata": {
        "colab": {
          "base_uri": "https://localhost:8080/"
        },
        "id": "aAO0Kc8xDdwD",
        "outputId": "c6fd07fa-c45f-4171-a91d-a8136b751c9f"
      },
      "execution_count": 224,
      "outputs": [
        {
          "output_type": "stream",
          "name": "stdout",
          "text": [
            "+--------+-------+-------+--------+-----------+--------+-----------+-------------+----------+----------+------------+------------+-----------+-----------+-----------+-----------+--------+--------+-------+-------+---------+------------+----+-----+---+---------+\n",
            "|Location|MinTemp|MaxTemp|Rainfall|Evaporation|Sunshine|WindGustDir|WindGustSpeed|WindDir9am|WindDir3pm|WindSpeed9am|WindSpeed3pm|Humidity9am|Humidity3pm|Pressure9am|Pressure3pm|Cloud9am|Cloud3pm|Temp9am|Temp3pm|RainToday|RainTomorrow|Year|Month|Day|DayOfWeek|\n",
            "+--------+-------+-------+--------+-----------+--------+-----------+-------------+----------+----------+------------+------------+-----------+-----------+-----------+-----------+--------+--------+-------+-------+---------+------------+----+-----+---+---------+\n",
            "|  Albury|   13.4|   22.9|     0.6|       null|    null|          W|         44.0|         W|       WNW|        20.0|        24.0|       71.0|       22.0|     1007.7|     1007.1|     8.0|    null|   16.9|   21.8|       No|          No|2008|   12|  2|        2|\n",
            "|  Albury|    7.4|   25.1|     0.0|       null|    null|        WNW|         44.0|       NNW|       WSW|         4.0|        22.0|       44.0|       25.0|     1010.6|     1007.8|    null|    null|   17.2|   24.3|       No|          No|2008|   12|  3|        3|\n",
            "|  Albury|   12.9|   25.7|     0.0|       null|    null|        WSW|         46.0|         W|       WSW|        19.0|        26.0|       38.0|       30.0|     1007.6|     1008.7|    null|     2.0|   21.0|   23.2|       No|          No|2008|   12|  4|        4|\n",
            "|  Albury|    9.2|   28.0|     0.0|       null|    null|         NE|         24.0|        SE|         E|        11.0|         9.0|       45.0|       16.0|     1017.6|     1012.8|    null|    null|   18.1|   26.5|       No|          No|2008|   12|  5|        5|\n",
            "|  Albury|   17.5|   32.3|     1.0|       null|    null|          W|         41.0|       ENE|        NW|         7.0|        20.0|       82.0|       33.0|     1010.8|     1006.0|     7.0|     8.0|   17.8|   29.7|       No|          No|2008|   12|  6|        6|\n",
            "+--------+-------+-------+--------+-----------+--------+-----------+-------------+----------+----------+------------+------------+-----------+-----------+-----------+-----------+--------+--------+-------+-------+---------+------------+----+-----+---+---------+\n",
            "only showing top 5 rows\n",
            "\n"
          ]
        }
      ]
    },
    {
      "cell_type": "markdown",
      "source": [
        "### Explore numerical variables"
      ],
      "metadata": {
        "id": "8y-aj1WhZr1d"
      }
    },
    {
      "cell_type": "code",
      "source": [
        "numerical_columns_names = [column[0] for column in weather_df.dtypes if column[1] == 'float']\n",
        "\n",
        "print('There are {} numerical variables\\n'.format(len(numerical_columns_names)))\n",
        "\n",
        "print('The numerical variables are :', numerical_columns_names)"
      ],
      "metadata": {
        "colab": {
          "base_uri": "https://localhost:8080/"
        },
        "id": "zEGu2BnsZ3NC",
        "outputId": "1b4f48c2-ce8f-4f74-964b-bc07ae7a7f64"
      },
      "execution_count": 225,
      "outputs": [
        {
          "output_type": "stream",
          "name": "stdout",
          "text": [
            "There are 16 numerical variables\n",
            "\n",
            "The numerical variables are : ['MinTemp', 'MaxTemp', 'Rainfall', 'Evaporation', 'Sunshine', 'WindGustSpeed', 'WindSpeed9am', 'WindSpeed3pm', 'Humidity9am', 'Humidity3pm', 'Pressure9am', 'Pressure3pm', 'Cloud9am', 'Cloud3pm', 'Temp9am', 'Temp3pm']\n"
          ]
        }
      ]
    },
    {
      "cell_type": "code",
      "source": [
        "numerical_columns = weather_df.select(numerical_columns_names).toPandas()"
      ],
      "metadata": {
        "id": "iwaF8MZBaSCN"
      },
      "execution_count": 226,
      "outputs": []
    },
    {
      "cell_type": "code",
      "source": [
        "numerical_columns.isnull().sum()"
      ],
      "metadata": {
        "colab": {
          "base_uri": "https://localhost:8080/"
        },
        "outputId": "c04b8450-1039-4cf4-d549-4c47c5041856",
        "id": "ihlPbnBLaSCP"
      },
      "execution_count": 227,
      "outputs": [
        {
          "output_type": "execute_result",
          "data": {
            "text/plain": [
              "MinTemp            637\n",
              "MaxTemp            322\n",
              "Rainfall          1406\n",
              "Evaporation      60843\n",
              "Sunshine         67816\n",
              "WindGustSpeed     9270\n",
              "WindSpeed9am      1348\n",
              "WindSpeed3pm      2630\n",
              "Humidity9am       1774\n",
              "Humidity3pm       3610\n",
              "Pressure9am      14014\n",
              "Pressure3pm      13981\n",
              "Cloud9am         53657\n",
              "Cloud3pm         57094\n",
              "Temp9am            904\n",
              "Temp3pm           2726\n",
              "dtype: int64"
            ]
          },
          "metadata": {},
          "execution_count": 227
        }
      ]
    },
    {
      "cell_type": "code",
      "source": [
        "numerical_columns.describe()"
      ],
      "metadata": {
        "colab": {
          "base_uri": "https://localhost:8080/",
          "height": 364
        },
        "id": "71uxO8q1an7o",
        "outputId": "52e6aac1-b0c9-4314-9a8e-bc9ce2b77cd7"
      },
      "execution_count": 228,
      "outputs": [
        {
          "output_type": "execute_result",
          "data": {
            "text/html": [
              "\n",
              "  <div id=\"df-451831d5-20fc-4b5d-8892-4698ac2ed9b1\">\n",
              "    <div class=\"colab-df-container\">\n",
              "      <div>\n",
              "<style scoped>\n",
              "    .dataframe tbody tr th:only-of-type {\n",
              "        vertical-align: middle;\n",
              "    }\n",
              "\n",
              "    .dataframe tbody tr th {\n",
              "        vertical-align: top;\n",
              "    }\n",
              "\n",
              "    .dataframe thead th {\n",
              "        text-align: right;\n",
              "    }\n",
              "</style>\n",
              "<table border=\"1\" class=\"dataframe\">\n",
              "  <thead>\n",
              "    <tr style=\"text-align: right;\">\n",
              "      <th></th>\n",
              "      <th>MinTemp</th>\n",
              "      <th>MaxTemp</th>\n",
              "      <th>Rainfall</th>\n",
              "      <th>Evaporation</th>\n",
              "      <th>Sunshine</th>\n",
              "      <th>WindGustSpeed</th>\n",
              "      <th>WindSpeed9am</th>\n",
              "      <th>WindSpeed3pm</th>\n",
              "      <th>Humidity9am</th>\n",
              "      <th>Humidity3pm</th>\n",
              "      <th>Pressure9am</th>\n",
              "      <th>Pressure3pm</th>\n",
              "      <th>Cloud9am</th>\n",
              "      <th>Cloud3pm</th>\n",
              "      <th>Temp9am</th>\n",
              "      <th>Temp3pm</th>\n",
              "    </tr>\n",
              "  </thead>\n",
              "  <tbody>\n",
              "    <tr>\n",
              "      <th>count</th>\n",
              "      <td>141556.000000</td>\n",
              "      <td>141871.000000</td>\n",
              "      <td>140787.000000</td>\n",
              "      <td>81350.000000</td>\n",
              "      <td>74377.000000</td>\n",
              "      <td>132923.000000</td>\n",
              "      <td>140845.000000</td>\n",
              "      <td>139563.000000</td>\n",
              "      <td>140419.000000</td>\n",
              "      <td>138583.000000</td>\n",
              "      <td>128179.000000</td>\n",
              "      <td>128212.000000</td>\n",
              "      <td>88536.000000</td>\n",
              "      <td>85099.000000</td>\n",
              "      <td>141289.000000</td>\n",
              "      <td>139467.000000</td>\n",
              "    </tr>\n",
              "    <tr>\n",
              "      <th>mean</th>\n",
              "      <td>12.186475</td>\n",
              "      <td>23.226818</td>\n",
              "      <td>2.350023</td>\n",
              "      <td>5.469787</td>\n",
              "      <td>7.624741</td>\n",
              "      <td>39.984291</td>\n",
              "      <td>14.001988</td>\n",
              "      <td>18.637575</td>\n",
              "      <td>68.843811</td>\n",
              "      <td>51.482605</td>\n",
              "      <td>1017.653564</td>\n",
              "      <td>1015.254700</td>\n",
              "      <td>4.437190</td>\n",
              "      <td>4.503167</td>\n",
              "      <td>16.987465</td>\n",
              "      <td>21.687134</td>\n",
              "    </tr>\n",
              "    <tr>\n",
              "      <th>std</th>\n",
              "      <td>6.403172</td>\n",
              "      <td>7.117685</td>\n",
              "      <td>8.468378</td>\n",
              "      <td>4.188550</td>\n",
              "      <td>3.781243</td>\n",
              "      <td>13.587051</td>\n",
              "      <td>8.893332</td>\n",
              "      <td>8.803850</td>\n",
              "      <td>19.050930</td>\n",
              "      <td>20.798422</td>\n",
              "      <td>7.105008</td>\n",
              "      <td>7.036356</td>\n",
              "      <td>2.886452</td>\n",
              "      <td>2.720423</td>\n",
              "      <td>6.492784</td>\n",
              "      <td>6.937523</td>\n",
              "    </tr>\n",
              "    <tr>\n",
              "      <th>min</th>\n",
              "      <td>-8.500000</td>\n",
              "      <td>-4.800000</td>\n",
              "      <td>0.000000</td>\n",
              "      <td>0.000000</td>\n",
              "      <td>0.000000</td>\n",
              "      <td>6.000000</td>\n",
              "      <td>0.000000</td>\n",
              "      <td>0.000000</td>\n",
              "      <td>0.000000</td>\n",
              "      <td>0.000000</td>\n",
              "      <td>980.500000</td>\n",
              "      <td>977.099976</td>\n",
              "      <td>0.000000</td>\n",
              "      <td>0.000000</td>\n",
              "      <td>-7.200000</td>\n",
              "      <td>-5.400000</td>\n",
              "    </tr>\n",
              "    <tr>\n",
              "      <th>25%</th>\n",
              "      <td>7.600000</td>\n",
              "      <td>17.900000</td>\n",
              "      <td>0.000000</td>\n",
              "      <td>2.600000</td>\n",
              "      <td>4.900000</td>\n",
              "      <td>31.000000</td>\n",
              "      <td>7.000000</td>\n",
              "      <td>13.000000</td>\n",
              "      <td>57.000000</td>\n",
              "      <td>37.000000</td>\n",
              "      <td>1012.900024</td>\n",
              "      <td>1010.400024</td>\n",
              "      <td>1.000000</td>\n",
              "      <td>2.000000</td>\n",
              "      <td>12.300000</td>\n",
              "      <td>16.600000</td>\n",
              "    </tr>\n",
              "    <tr>\n",
              "      <th>50%</th>\n",
              "      <td>12.000000</td>\n",
              "      <td>22.600000</td>\n",
              "      <td>0.000000</td>\n",
              "      <td>4.800000</td>\n",
              "      <td>8.500000</td>\n",
              "      <td>39.000000</td>\n",
              "      <td>13.000000</td>\n",
              "      <td>19.000000</td>\n",
              "      <td>70.000000</td>\n",
              "      <td>52.000000</td>\n",
              "      <td>1017.599976</td>\n",
              "      <td>1015.200012</td>\n",
              "      <td>5.000000</td>\n",
              "      <td>5.000000</td>\n",
              "      <td>16.700001</td>\n",
              "      <td>21.100000</td>\n",
              "    </tr>\n",
              "    <tr>\n",
              "      <th>75%</th>\n",
              "      <td>16.799999</td>\n",
              "      <td>28.200001</td>\n",
              "      <td>0.800000</td>\n",
              "      <td>7.400000</td>\n",
              "      <td>10.600000</td>\n",
              "      <td>48.000000</td>\n",
              "      <td>19.000000</td>\n",
              "      <td>24.000000</td>\n",
              "      <td>83.000000</td>\n",
              "      <td>66.000000</td>\n",
              "      <td>1022.400024</td>\n",
              "      <td>1020.000000</td>\n",
              "      <td>7.000000</td>\n",
              "      <td>7.000000</td>\n",
              "      <td>21.600000</td>\n",
              "      <td>26.400000</td>\n",
              "    </tr>\n",
              "    <tr>\n",
              "      <th>max</th>\n",
              "      <td>33.900002</td>\n",
              "      <td>48.099998</td>\n",
              "      <td>371.000000</td>\n",
              "      <td>145.000000</td>\n",
              "      <td>14.500000</td>\n",
              "      <td>135.000000</td>\n",
              "      <td>130.000000</td>\n",
              "      <td>87.000000</td>\n",
              "      <td>100.000000</td>\n",
              "      <td>100.000000</td>\n",
              "      <td>1041.000000</td>\n",
              "      <td>1039.599976</td>\n",
              "      <td>9.000000</td>\n",
              "      <td>9.000000</td>\n",
              "      <td>40.200001</td>\n",
              "      <td>46.700001</td>\n",
              "    </tr>\n",
              "  </tbody>\n",
              "</table>\n",
              "</div>\n",
              "      <button class=\"colab-df-convert\" onclick=\"convertToInteractive('df-451831d5-20fc-4b5d-8892-4698ac2ed9b1')\"\n",
              "              title=\"Convert this dataframe to an interactive table.\"\n",
              "              style=\"display:none;\">\n",
              "        \n",
              "  <svg xmlns=\"http://www.w3.org/2000/svg\" height=\"24px\"viewBox=\"0 0 24 24\"\n",
              "       width=\"24px\">\n",
              "    <path d=\"M0 0h24v24H0V0z\" fill=\"none\"/>\n",
              "    <path d=\"M18.56 5.44l.94 2.06.94-2.06 2.06-.94-2.06-.94-.94-2.06-.94 2.06-2.06.94zm-11 1L8.5 8.5l.94-2.06 2.06-.94-2.06-.94L8.5 2.5l-.94 2.06-2.06.94zm10 10l.94 2.06.94-2.06 2.06-.94-2.06-.94-.94-2.06-.94 2.06-2.06.94z\"/><path d=\"M17.41 7.96l-1.37-1.37c-.4-.4-.92-.59-1.43-.59-.52 0-1.04.2-1.43.59L10.3 9.45l-7.72 7.72c-.78.78-.78 2.05 0 2.83L4 21.41c.39.39.9.59 1.41.59.51 0 1.02-.2 1.41-.59l7.78-7.78 2.81-2.81c.8-.78.8-2.07 0-2.86zM5.41 20L4 18.59l7.72-7.72 1.47 1.35L5.41 20z\"/>\n",
              "  </svg>\n",
              "      </button>\n",
              "      \n",
              "  <style>\n",
              "    .colab-df-container {\n",
              "      display:flex;\n",
              "      flex-wrap:wrap;\n",
              "      gap: 12px;\n",
              "    }\n",
              "\n",
              "    .colab-df-convert {\n",
              "      background-color: #E8F0FE;\n",
              "      border: none;\n",
              "      border-radius: 50%;\n",
              "      cursor: pointer;\n",
              "      display: none;\n",
              "      fill: #1967D2;\n",
              "      height: 32px;\n",
              "      padding: 0 0 0 0;\n",
              "      width: 32px;\n",
              "    }\n",
              "\n",
              "    .colab-df-convert:hover {\n",
              "      background-color: #E2EBFA;\n",
              "      box-shadow: 0px 1px 2px rgba(60, 64, 67, 0.3), 0px 1px 3px 1px rgba(60, 64, 67, 0.15);\n",
              "      fill: #174EA6;\n",
              "    }\n",
              "\n",
              "    [theme=dark] .colab-df-convert {\n",
              "      background-color: #3B4455;\n",
              "      fill: #D2E3FC;\n",
              "    }\n",
              "\n",
              "    [theme=dark] .colab-df-convert:hover {\n",
              "      background-color: #434B5C;\n",
              "      box-shadow: 0px 1px 3px 1px rgba(0, 0, 0, 0.15);\n",
              "      filter: drop-shadow(0px 1px 2px rgba(0, 0, 0, 0.3));\n",
              "      fill: #FFFFFF;\n",
              "    }\n",
              "  </style>\n",
              "\n",
              "      <script>\n",
              "        const buttonEl =\n",
              "          document.querySelector('#df-451831d5-20fc-4b5d-8892-4698ac2ed9b1 button.colab-df-convert');\n",
              "        buttonEl.style.display =\n",
              "          google.colab.kernel.accessAllowed ? 'block' : 'none';\n",
              "\n",
              "        async function convertToInteractive(key) {\n",
              "          const element = document.querySelector('#df-451831d5-20fc-4b5d-8892-4698ac2ed9b1');\n",
              "          const dataTable =\n",
              "            await google.colab.kernel.invokeFunction('convertToInteractive',\n",
              "                                                     [key], {});\n",
              "          if (!dataTable) return;\n",
              "\n",
              "          const docLinkHtml = 'Like what you see? Visit the ' +\n",
              "            '<a target=\"_blank\" href=https://colab.research.google.com/notebooks/data_table.ipynb>data table notebook</a>'\n",
              "            + ' to learn more about interactive tables.';\n",
              "          element.innerHTML = '';\n",
              "          dataTable['output_type'] = 'display_data';\n",
              "          await google.colab.output.renderOutput(dataTable, element);\n",
              "          const docLink = document.createElement('div');\n",
              "          docLink.innerHTML = docLinkHtml;\n",
              "          element.appendChild(docLink);\n",
              "        }\n",
              "      </script>\n",
              "    </div>\n",
              "  </div>\n",
              "  "
            ],
            "text/plain": [
              "             MinTemp        MaxTemp  ...        Temp9am        Temp3pm\n",
              "count  141556.000000  141871.000000  ...  141289.000000  139467.000000\n",
              "mean       12.186475      23.226818  ...      16.987465      21.687134\n",
              "std         6.403172       7.117685  ...       6.492784       6.937523\n",
              "min        -8.500000      -4.800000  ...      -7.200000      -5.400000\n",
              "25%         7.600000      17.900000  ...      12.300000      16.600000\n",
              "50%        12.000000      22.600000  ...      16.700001      21.100000\n",
              "75%        16.799999      28.200001  ...      21.600000      26.400000\n",
              "max        33.900002      48.099998  ...      40.200001      46.700001\n",
              "\n",
              "[8 rows x 16 columns]"
            ]
          },
          "metadata": {},
          "execution_count": 228
        }
      ]
    },
    {
      "cell_type": "code",
      "source": [
        "fig, axs = plt.subplots(ncols=4, figsize=(20, 4))\n",
        "\n",
        "sns.boxplot(data=numerical_columns, y='Rainfall', ax=axs[0])\n",
        "sns.boxplot(data=numerical_columns, y='Evaporation', ax=axs[1])\n",
        "sns.boxplot(data=numerical_columns, y='WindSpeed9am', ax=axs[2])\n",
        "sns.boxplot(data=numerical_columns, y='WindSpeed3pm', ax=axs[3])"
      ],
      "metadata": {
        "colab": {
          "base_uri": "https://localhost:8080/",
          "height": 265
        },
        "id": "sdqpZVv-assV",
        "outputId": "4b35f5fd-8019-49eb-a078-59220e0a1c30"
      },
      "execution_count": 229,
      "outputs": [
        {
          "output_type": "execute_result",
          "data": {
            "text/plain": [
              "<matplotlib.axes._subplots.AxesSubplot at 0x7f051d566090>"
            ]
          },
          "metadata": {},
          "execution_count": 229
        },
        {
          "output_type": "display_data",
          "data": {
            "image/png": "[encoded data removed]",
            "text/plain": [
              "<Figure size 1440x288 with 4 Axes>"
            ]
          },
          "metadata": {}
        }
      ]
    },
    {
      "cell_type": "code",
      "source": [
        "fig, axs = plt.subplots(ncols=4, figsize=(20, 4))\n",
        "\n",
        "sns.histplot(data=numerical_columns, x='Rainfall', stat=\"density\", kde=True, common_norm=False, ax=axs[0], bins=10)\n",
        "sns.histplot(data=numerical_columns, x='Evaporation', stat=\"density\", kde=True, common_norm=False, ax=axs[1])\n",
        "sns.histplot(data=numerical_columns, x='WindSpeed9am', stat=\"density\", kde=True, common_norm=False, ax=axs[2])\n",
        "sns.histplot(data=numerical_columns, x='WindSpeed3pm', stat=\"density\", kde=True, common_norm=False, ax=axs[3])"
      ],
      "metadata": {
        "colab": {
          "base_uri": "https://localhost:8080/",
          "height": 304
        },
        "id": "WDdhfT4RcL12",
        "outputId": "961a2d6a-ae77-47ba-d092-ef37b2920629"
      },
      "execution_count": 230,
      "outputs": [
        {
          "output_type": "execute_result",
          "data": {
            "text/plain": [
              "<matplotlib.axes._subplots.AxesSubplot at 0x7f051cf01250>"
            ]
          },
          "metadata": {},
          "execution_count": 230
        },
        {
          "output_type": "display_data",
          "data": {
            "image/png": "[encoded data removed]",
            "text/plain": [
              "<Figure size 1440x288 with 4 Axes>"
            ]
          },
          "metadata": {}
        }
      ]
    },
    {
      "cell_type": "markdown",
      "source": [
        "Data in numeric columns contains outliers and missing values. So replace missing values with median."
      ],
      "metadata": {
        "id": "6XeQlPHaOkP4"
      }
    },
    {
      "cell_type": "code",
      "source": [
        "from pyspark.ml.feature import Imputer"
      ],
      "metadata": {
        "id": "SB22EvRcqCqU"
      },
      "execution_count": 231,
      "outputs": []
    },
    {
      "cell_type": "code",
      "source": [
        "imputer = Imputer(\n",
        "    inputCols=numerical_columns_names, \n",
        "    outputCols=numerical_columns_names\n",
        "    ).setStrategy(\"median\")"
      ],
      "metadata": {
        "id": "dMT-x1A7qKhH"
      },
      "execution_count": 232,
      "outputs": []
    },
    {
      "cell_type": "code",
      "source": [
        "weather_df = imputer.fit(weather_df).transform(weather_df)"
      ],
      "metadata": {
        "id": "3AUN18g0qZbM"
      },
      "execution_count": 233,
      "outputs": []
    },
    {
      "cell_type": "code",
      "source": [
        "weather_df.select([count(when(isnan(c) | col(c).isNull(), c)).alias(c) for c in weather_df.columns]).show()"
      ],
      "metadata": {
        "colab": {
          "base_uri": "https://localhost:8080/"
        },
        "id": "Q_Jv3eEEqoh4",
        "outputId": "8d23c398-cdd5-4668-9261-c83b4420d2e0"
      },
      "execution_count": 234,
      "outputs": [
        {
          "output_type": "stream",
          "name": "stdout",
          "text": [
            "+--------+-------+-------+--------+-----------+--------+-----------+-------------+----------+----------+------------+------------+-----------+-----------+-----------+-----------+--------+--------+-------+-------+---------+------------+----+-----+---+---------+\n",
            "|Location|MinTemp|MaxTemp|Rainfall|Evaporation|Sunshine|WindGustDir|WindGustSpeed|WindDir9am|WindDir3pm|WindSpeed9am|WindSpeed3pm|Humidity9am|Humidity3pm|Pressure9am|Pressure3pm|Cloud9am|Cloud3pm|Temp9am|Temp3pm|RainToday|RainTomorrow|Year|Month|Day|DayOfWeek|\n",
            "+--------+-------+-------+--------+-----------+--------+-----------+-------------+----------+----------+------------+------------+-----------+-----------+-----------+-----------+--------+--------+-------+-------+---------+------------+----+-----+---+---------+\n",
            "|       0|      0|      0|       0|          0|       0|       9330|            0|     10013|      3778|           0|           0|          0|          0|          0|          0|       0|       0|      0|      0|     1406|           0|   0|    0|  0|        0|\n",
            "+--------+-------+-------+--------+-----------+--------+-----------+-------------+----------+----------+------------+------------+-----------+-----------+-----------+-----------+--------+--------+-------+-------+---------+------------+----+-----+---+---------+\n",
            "\n"
          ]
        }
      ]
    },
    {
      "cell_type": "markdown",
      "source": [
        "### Classification"
      ],
      "metadata": {
        "id": "C9HJXGLPe8Hg"
      }
    },
    {
      "cell_type": "markdown",
      "source": [
        "#### Data preparation"
      ],
      "metadata": {
        "id": "3IAcpFPLCHlw"
      }
    },
    {
      "cell_type": "code",
      "source": [
        "from pyspark.ml import Pipeline\n",
        "from pyspark.ml.feature import StringIndexer, OneHotEncoder, VectorAssembler, IndexToString, VectorIndexer"
      ],
      "metadata": {
        "id": "T3OH-0F_AsRU"
      },
      "execution_count": 235,
      "outputs": []
    },
    {
      "cell_type": "code",
      "source": [
        "def get_dummy(df, categorical_columns, numerical_columns, target_column):\n",
        "\n",
        "    indexers = [StringIndexer(inputCol=c, outputCol=\"{0}_indexed\".format(c), handleInvalid='keep') for c in categorical_columns]\n",
        "\n",
        "    encoders = [OneHotEncoder(inputCol=indexer.getOutputCol(),\n",
        "                outputCol=\"{0}_encoded\".format(indexer.getOutputCol()),\n",
        "                handleInvalid='keep',\n",
        "                dropLast=False)\n",
        "                for indexer in indexers]\n",
        "\n",
        "    assembler = VectorAssembler(inputCols=[encoder.getOutputCol() for encoder in encoders]\n",
        "                                + numerical_columns, outputCol=\"features\")\n",
        "\n",
        "    pipeline = Pipeline(stages=indexers + encoders + [assembler])\n",
        "\n",
        "    model=pipeline.fit(df)\n",
        "    data = model.transform(df)\n",
        "\n",
        "    data = data.withColumn('label', col(target_column))\n",
        "\n",
        "    return data.select('features','label')"
      ],
      "metadata": {
        "id": "l6UtRxsYmuR8"
      },
      "execution_count": 236,
      "outputs": []
    },
    {
      "cell_type": "code",
      "source": [
        "features_columns = categorical_columns_names[:-1]\n",
        "numerical_columns_names += ['Year', 'Month', 'Day', 'DayOfWeek']"
      ],
      "metadata": {
        "id": "VNiBN_MZplho"
      },
      "execution_count": 237,
      "outputs": []
    },
    {
      "cell_type": "code",
      "source": [
        "data_for_classification = get_dummy(weather_df, features_columns, numerical_columns_names, 'RainTomorrow')"
      ],
      "metadata": {
        "id": "LQqHp_NSpT_U"
      },
      "execution_count": 238,
      "outputs": []
    },
    {
      "cell_type": "code",
      "source": [
        "data_for_classification.show(5)"
      ],
      "metadata": {
        "colab": {
          "base_uri": "https://localhost:8080/"
        },
        "id": "YhaNn75arRxR",
        "outputId": "ea1b4318-021e-4f2a-f5d3-582f65f2c592"
      },
      "execution_count": 239,
      "outputs": [
        {
          "output_type": "stream",
          "name": "stdout",
          "text": [
            "+--------------------+-----+\n",
            "|            features|label|\n",
            "+--------------------+-----+\n",
            "|(129,[14,51,75,94...|   No|\n",
            "|(129,[14,60,78,90...|   No|\n",
            "|(129,[14,57,75,90...|   No|\n",
            "|(129,[14,64,70,97...|   No|\n",
            "|(129,[14,51,79,95...|   No|\n",
            "+--------------------+-----+\n",
            "only showing top 5 rows\n",
            "\n"
          ]
        }
      ]
    },
    {
      "cell_type": "code",
      "source": [
        "label_indexer = StringIndexer(inputCol='label',\n",
        "                             outputCol='indexedLabel').fit(data_for_classification)\n",
        "label_indexer.transform(data_for_classification).show(5, True)"
      ],
      "metadata": {
        "colab": {
          "base_uri": "https://localhost:8080/"
        },
        "id": "WT-ijyXhrf5R",
        "outputId": "37daacef-44cc-4dd7-f263-1d66614ef1db"
      },
      "execution_count": 240,
      "outputs": [
        {
          "output_type": "stream",
          "name": "stdout",
          "text": [
            "+--------------------+-----+------------+\n",
            "|            features|label|indexedLabel|\n",
            "+--------------------+-----+------------+\n",
            "|(129,[14,51,75,94...|   No|         0.0|\n",
            "|(129,[14,60,78,90...|   No|         0.0|\n",
            "|(129,[14,57,75,90...|   No|         0.0|\n",
            "|(129,[14,64,70,97...|   No|         0.0|\n",
            "|(129,[14,51,79,95...|   No|         0.0|\n",
            "+--------------------+-----+------------+\n",
            "only showing top 5 rows\n",
            "\n"
          ]
        }
      ]
    },
    {
      "cell_type": "code",
      "source": [
        "feature_indexer=VectorIndexer(inputCol=\"features\", \n",
        "                             outputCol=\"indexedFeatures\",\n",
        "                             handleInvalid=\"keep\").fit(data_for_classification)\n",
        "feature_indexer.transform(data_for_classification).show(5, True)"
      ],
      "metadata": {
        "colab": {
          "base_uri": "https://localhost:8080/"
        },
        "id": "nu7O4fvVrtc0",
        "outputId": "09658639-0f36-4770-cb68-47c112a29ee6"
      },
      "execution_count": 241,
      "outputs": [
        {
          "output_type": "stream",
          "name": "stdout",
          "text": [
            "+--------------------+-----+--------------------+\n",
            "|            features|label|     indexedFeatures|\n",
            "+--------------------+-----+--------------------+\n",
            "|(129,[14,51,75,94...|   No|(129,[14,51,75,94...|\n",
            "|(129,[14,60,78,90...|   No|(129,[14,60,78,90...|\n",
            "|(129,[14,57,75,90...|   No|(129,[14,57,75,90...|\n",
            "|(129,[14,64,70,97...|   No|(129,[14,64,70,97...|\n",
            "|(129,[14,51,79,95...|   No|(129,[14,51,79,95...|\n",
            "+--------------------+-----+--------------------+\n",
            "only showing top 5 rows\n",
            "\n"
          ]
        }
      ]
    },
    {
      "cell_type": "code",
      "source": [
        "(training_data, test_data) = data_for_classification.randomSplit([0.7, 0.3])"
      ],
      "metadata": {
        "id": "UUejLzcgsJiE"
      },
      "execution_count": 242,
      "outputs": []
    },
    {
      "cell_type": "code",
      "source": [
        "training_data.show(5)"
      ],
      "metadata": {
        "colab": {
          "base_uri": "https://localhost:8080/"
        },
        "id": "7Y0Ugwt9tXP7",
        "outputId": "f7fbf71e-c422-43e4-8e65-301b9fc3d433"
      },
      "execution_count": 243,
      "outputs": [
        {
          "output_type": "stream",
          "name": "stdout",
          "text": [
            "+--------------------+-----+\n",
            "|            features|label|\n",
            "+--------------------+-----+\n",
            "|(129,[0,51,69,88,...|   No|\n",
            "|(129,[0,51,69,88,...|  Yes|\n",
            "|(129,[0,51,69,88,...|   No|\n",
            "|(129,[0,51,69,88,...|   No|\n",
            "|(129,[0,51,69,90,...|   No|\n",
            "+--------------------+-----+\n",
            "only showing top 5 rows\n",
            "\n"
          ]
        }
      ]
    },
    {
      "cell_type": "code",
      "source": [
        "test_data.show(5)"
      ],
      "metadata": {
        "colab": {
          "base_uri": "https://localhost:8080/"
        },
        "id": "G6mUy4a_tYnb",
        "outputId": "eac6c0ee-1012-4532-878d-c9c882be36a1"
      },
      "execution_count": 244,
      "outputs": [
        {
          "output_type": "stream",
          "name": "stdout",
          "text": [
            "+--------------------+-----+\n",
            "|            features|label|\n",
            "+--------------------+-----+\n",
            "|(129,[0,51,69,95,...|   No|\n",
            "|(129,[0,51,70,88,...|   No|\n",
            "|(129,[0,51,70,88,...|   No|\n",
            "|(129,[0,51,70,94,...|   No|\n",
            "|(129,[0,51,70,100...|  Yes|\n",
            "+--------------------+-----+\n",
            "only showing top 5 rows\n",
            "\n"
          ]
        }
      ]
    },
    {
      "cell_type": "code",
      "source": [
        "label_converter = IndexToString(inputCol=\"prediction\", outputCol=\"predictedLabel\",\n",
        "                               labels=label_indexer.labels)"
      ],
      "metadata": {
        "id": "4YBRTuH_xrGC"
      },
      "execution_count": 245,
      "outputs": []
    },
    {
      "cell_type": "markdown",
      "source": [
        "#### Make classifications"
      ],
      "metadata": {
        "id": "sFDdd7S3CRp8"
      }
    },
    {
      "cell_type": "code",
      "source": [
        "from pyspark.ml.classification import DecisionTreeClassifier, RandomForestClassifier, GBTClassifier, NaiveBayes"
      ],
      "metadata": {
        "id": "70wyEQtTuJso"
      },
      "execution_count": 246,
      "outputs": []
    },
    {
      "cell_type": "code",
      "source": [
        "decision_tree = DecisionTreeClassifier(labelCol='indexedLabel', featuresCol='indexedFeatures')"
      ],
      "metadata": {
        "id": "X9HHDAz_CYf2"
      },
      "execution_count": 247,
      "outputs": []
    },
    {
      "cell_type": "code",
      "source": [
        "pipeline_decision_tree = Pipeline(stages=[label_indexer, feature_indexer, decision_tree, label_converter])"
      ],
      "metadata": {
        "id": "fvrLHIk0xvc5"
      },
      "execution_count": 248,
      "outputs": []
    },
    {
      "cell_type": "code",
      "source": [
        "model_decision_tree = pipeline_decision_tree.fit(training_data)"
      ],
      "metadata": {
        "id": "R1PUchwVxzeI"
      },
      "execution_count": 249,
      "outputs": []
    },
    {
      "cell_type": "code",
      "source": [
        "predictions_decision_tree = model_decision_tree.transform(test_data)"
      ],
      "metadata": {
        "id": "F7XC3k0zx6xk"
      },
      "execution_count": 250,
      "outputs": []
    },
    {
      "cell_type": "code",
      "source": [
        "random_forest = RandomForestClassifier(labelCol=\"indexedLabel\", featuresCol=\"indexedFeatures\", numTrees=30)"
      ],
      "metadata": {
        "id": "wqO-u90_DTxa"
      },
      "execution_count": 251,
      "outputs": []
    },
    {
      "cell_type": "code",
      "source": [
        "pipeline_random_forest = Pipeline(stages=[label_indexer, feature_indexer, random_forest, label_converter])"
      ],
      "metadata": {
        "id": "BjES-J04D5sY"
      },
      "execution_count": 252,
      "outputs": []
    },
    {
      "cell_type": "code",
      "source": [
        "model_random_forest = pipeline_random_forest.fit(training_data)"
      ],
      "metadata": {
        "id": "JvqXMKhpD_bc"
      },
      "execution_count": 253,
      "outputs": []
    },
    {
      "cell_type": "code",
      "source": [
        "predictions_random_forest = model_random_forest.transform(test_data)"
      ],
      "metadata": {
        "id": "HBjDR3HMEMZa"
      },
      "execution_count": 254,
      "outputs": []
    },
    {
      "cell_type": "code",
      "source": [
        "gbt = GBTClassifier(labelCol=\"indexedLabel\", featuresCol=\"indexedFeatures\", maxIter=5, maxDepth=2)"
      ],
      "metadata": {
        "id": "4fOzNl-sEiaI"
      },
      "execution_count": 255,
      "outputs": []
    },
    {
      "cell_type": "code",
      "source": [
        "pipeline_gbt = Pipeline(stages=[label_indexer, feature_indexer, gbt, label_converter])"
      ],
      "metadata": {
        "id": "iJpjOzCNEuAr"
      },
      "execution_count": 256,
      "outputs": []
    },
    {
      "cell_type": "code",
      "source": [
        "model_gbt = pipeline_gbt.fit(training_data)"
      ],
      "metadata": {
        "id": "YIRovQe-EuAt"
      },
      "execution_count": 257,
      "outputs": []
    },
    {
      "cell_type": "code",
      "source": [
        "predictions_gbt = model_gbt.transform(test_data)"
      ],
      "metadata": {
        "id": "vknyex1PEuAt"
      },
      "execution_count": 258,
      "outputs": []
    },
    {
      "cell_type": "markdown",
      "source": [
        "#### Evaluation"
      ],
      "metadata": {
        "id": "X-X4lwwAEDhR"
      }
    },
    {
      "cell_type": "code",
      "source": [
        "from pyspark.ml.evaluation import BinaryClassificationEvaluator\n",
        "import pandas as pd"
      ],
      "metadata": {
        "id": "a0N_g9x6x_hA"
      },
      "execution_count": 259,
      "outputs": []
    },
    {
      "cell_type": "code",
      "source": [
        "evaluator = BinaryClassificationEvaluator(labelCol=\"indexedLabel\", rawPredictionCol=\"prediction\")"
      ],
      "metadata": {
        "id": "icWqxqs8zkae"
      },
      "execution_count": 260,
      "outputs": []
    },
    {
      "cell_type": "code",
      "source": [
        "evaluations = []"
      ],
      "metadata": {
        "id": "LN08ckT01xKm"
      },
      "execution_count": 261,
      "outputs": []
    },
    {
      "cell_type": "code",
      "source": [
        "evaluations.append(('Decision Tree', \n",
        "                    evaluator.evaluate(predictions_decision_tree), \n",
        "                    evaluator.evaluate(predictions_decision_tree, {evaluator.metricName: \"areaUnderPR\"})))\n",
        "evaluations.append(('Random Forest',\n",
        "                    evaluator.evaluate(predictions_random_forest),\n",
        "                    evaluator.evaluate(predictions_random_forest, {evaluator.metricName: \"areaUnderPR\"})))\n",
        "evaluations.append(('GBT',\n",
        "                    evaluator.evaluate(predictions_gbt),\n",
        "                    evaluator.evaluate(predictions_gbt, {evaluator.metricName: \"areaUnderPR\"})))"
      ],
      "metadata": {
        "id": "6-sxKspY1y4m"
      },
      "execution_count": 262,
      "outputs": []
    },
    {
      "cell_type": "code",
      "source": [
        "columns=['Algorithm', 'Under ROC', 'Under Precison Recall']"
      ],
      "metadata": {
        "id": "2-ohoj-n3Pa3"
      },
      "execution_count": 263,
      "outputs": []
    },
    {
      "cell_type": "code",
      "source": [
        "evaluations_data = pd.DataFrame.from_records(evaluations, columns=columns)"
      ],
      "metadata": {
        "id": "pxDZBuqn2cwX"
      },
      "execution_count": 264,
      "outputs": []
    },
    {
      "cell_type": "code",
      "source": [
        "evaluations_data_melted = pd.melt(evaluations_data, id_vars=columns[0],\n",
        "                                  var_name=\"Evaluation type\", value_name=\"Evaluation\")"
      ],
      "metadata": {
        "id": "ZU8Ix-3U3Nfl"
      },
      "execution_count": 265,
      "outputs": []
    },
    {
      "cell_type": "code",
      "source": [
        "evaluations_data_melted"
      ],
      "metadata": {
        "colab": {
          "base_uri": "https://localhost:8080/",
          "height": 238
        },
        "id": "XMgaeaw63gUB",
        "outputId": "7e1a75ca-fc75-4197-f8cc-d1bf57a36686"
      },
      "execution_count": 266,
      "outputs": [
        {
          "output_type": "execute_result",
          "data": {
            "text/html": [
              "\n",
              "  <div id=\"df-25b5c35a-95c5-440b-bdf5-6b3ff07ce880\">\n",
              "    <div class=\"colab-df-container\">\n",
              "      <div>\n",
              "<style scoped>\n",
              "    .dataframe tbody tr th:only-of-type {\n",
              "        vertical-align: middle;\n",
              "    }\n",
              "\n",
              "    .dataframe tbody tr th {\n",
              "        vertical-align: top;\n",
              "    }\n",
              "\n",
              "    .dataframe thead th {\n",
              "        text-align: right;\n",
              "    }\n",
              "</style>\n",
              "<table border=\"1\" class=\"dataframe\">\n",
              "  <thead>\n",
              "    <tr style=\"text-align: right;\">\n",
              "      <th></th>\n",
              "      <th>Algorithm</th>\n",
              "      <th>Evaluation type</th>\n",
              "      <th>Evaluation</th>\n",
              "    </tr>\n",
              "  </thead>\n",
              "  <tbody>\n",
              "    <tr>\n",
              "      <th>0</th>\n",
              "      <td>Decision Tree</td>\n",
              "      <td>Under ROC</td>\n",
              "      <td>0.681450</td>\n",
              "    </tr>\n",
              "    <tr>\n",
              "      <th>1</th>\n",
              "      <td>Random Forest</td>\n",
              "      <td>Under ROC</td>\n",
              "      <td>0.610912</td>\n",
              "    </tr>\n",
              "    <tr>\n",
              "      <th>2</th>\n",
              "      <td>GBT</td>\n",
              "      <td>Under ROC</td>\n",
              "      <td>0.670492</td>\n",
              "    </tr>\n",
              "    <tr>\n",
              "      <th>3</th>\n",
              "      <td>Decision Tree</td>\n",
              "      <td>Under Precison Recall</td>\n",
              "      <td>0.595562</td>\n",
              "    </tr>\n",
              "    <tr>\n",
              "      <th>4</th>\n",
              "      <td>Random Forest</td>\n",
              "      <td>Under Precison Recall</td>\n",
              "      <td>0.594250</td>\n",
              "    </tr>\n",
              "    <tr>\n",
              "      <th>5</th>\n",
              "      <td>GBT</td>\n",
              "      <td>Under Precison Recall</td>\n",
              "      <td>0.579193</td>\n",
              "    </tr>\n",
              "  </tbody>\n",
              "</table>\n",
              "</div>\n",
              "      <button class=\"colab-df-convert\" onclick=\"convertToInteractive('df-25b5c35a-95c5-440b-bdf5-6b3ff07ce880')\"\n",
              "              title=\"Convert this dataframe to an interactive table.\"\n",
              "              style=\"display:none;\">\n",
              "        \n",
              "  <svg xmlns=\"http://www.w3.org/2000/svg\" height=\"24px\"viewBox=\"0 0 24 24\"\n",
              "       width=\"24px\">\n",
              "    <path d=\"M0 0h24v24H0V0z\" fill=\"none\"/>\n",
              "    <path d=\"M18.56 5.44l.94 2.06.94-2.06 2.06-.94-2.06-.94-.94-2.06-.94 2.06-2.06.94zm-11 1L8.5 8.5l.94-2.06 2.06-.94-2.06-.94L8.5 2.5l-.94 2.06-2.06.94zm10 10l.94 2.06.94-2.06 2.06-.94-2.06-.94-.94-2.06-.94 2.06-2.06.94z\"/><path d=\"M17.41 7.96l-1.37-1.37c-.4-.4-.92-.59-1.43-.59-.52 0-1.04.2-1.43.59L10.3 9.45l-7.72 7.72c-.78.78-.78 2.05 0 2.83L4 21.41c.39.39.9.59 1.41.59.51 0 1.02-.2 1.41-.59l7.78-7.78 2.81-2.81c.8-.78.8-2.07 0-2.86zM5.41 20L4 18.59l7.72-7.72 1.47 1.35L5.41 20z\"/>\n",
              "  </svg>\n",
              "      </button>\n",
              "      \n",
              "  <style>\n",
              "    .colab-df-container {\n",
              "      display:flex;\n",
              "      flex-wrap:wrap;\n",
              "      gap: 12px;\n",
              "    }\n",
              "\n",
              "    .colab-df-convert {\n",
              "      background-color: #E8F0FE;\n",
              "      border: none;\n",
              "      border-radius: 50%;\n",
              "      cursor: pointer;\n",
              "      display: none;\n",
              "      fill: #1967D2;\n",
              "      height: 32px;\n",
              "      padding: 0 0 0 0;\n",
              "      width: 32px;\n",
              "    }\n",
              "\n",
              "    .colab-df-convert:hover {\n",
              "      background-color: #E2EBFA;\n",
              "      box-shadow: 0px 1px 2px rgba(60, 64, 67, 0.3), 0px 1px 3px 1px rgba(60, 64, 67, 0.15);\n",
              "      fill: #174EA6;\n",
              "    }\n",
              "\n",
              "    [theme=dark] .colab-df-convert {\n",
              "      background-color: #3B4455;\n",
              "      fill: #D2E3FC;\n",
              "    }\n",
              "\n",
              "    [theme=dark] .colab-df-convert:hover {\n",
              "      background-color: #434B5C;\n",
              "      box-shadow: 0px 1px 3px 1px rgba(0, 0, 0, 0.15);\n",
              "      filter: drop-shadow(0px 1px 2px rgba(0, 0, 0, 0.3));\n",
              "      fill: #FFFFFF;\n",
              "    }\n",
              "  </style>\n",
              "\n",
              "      <script>\n",
              "        const buttonEl =\n",
              "          document.querySelector('#df-25b5c35a-95c5-440b-bdf5-6b3ff07ce880 button.colab-df-convert');\n",
              "        buttonEl.style.display =\n",
              "          google.colab.kernel.accessAllowed ? 'block' : 'none';\n",
              "\n",
              "        async function convertToInteractive(key) {\n",
              "          const element = document.querySelector('#df-25b5c35a-95c5-440b-bdf5-6b3ff07ce880');\n",
              "          const dataTable =\n",
              "            await google.colab.kernel.invokeFunction('convertToInteractive',\n",
              "                                                     [key], {});\n",
              "          if (!dataTable) return;\n",
              "\n",
              "          const docLinkHtml = 'Like what you see? Visit the ' +\n",
              "            '<a target=\"_blank\" href=https://colab.research.google.com/notebooks/data_table.ipynb>data table notebook</a>'\n",
              "            + ' to learn more about interactive tables.';\n",
              "          element.innerHTML = '';\n",
              "          dataTable['output_type'] = 'display_data';\n",
              "          await google.colab.output.renderOutput(dataTable, element);\n",
              "          const docLink = document.createElement('div');\n",
              "          docLink.innerHTML = docLinkHtml;\n",
              "          element.appendChild(docLink);\n",
              "        }\n",
              "      </script>\n",
              "    </div>\n",
              "  </div>\n",
              "  "
            ],
            "text/plain": [
              "       Algorithm        Evaluation type  Evaluation\n",
              "0  Decision Tree              Under ROC    0.681450\n",
              "1  Random Forest              Under ROC    0.610912\n",
              "2            GBT              Under ROC    0.670492\n",
              "3  Decision Tree  Under Precison Recall    0.595562\n",
              "4  Random Forest  Under Precison Recall    0.594250\n",
              "5            GBT  Under Precison Recall    0.579193"
            ]
          },
          "metadata": {},
          "execution_count": 266
        }
      ]
    },
    {
      "cell_type": "code",
      "source": [
        "fig, ax = plt.subplots(figsize=(20, 10))\n",
        "sns.barplot(x=columns[0], y=\"Evaluation\", hue=\"Evaluation type\", data=evaluations_data_melted, ax=ax)\n",
        "ax.set_title('Оценка работы алгоритмов')"
      ],
      "metadata": {
        "colab": {
          "base_uri": "https://localhost:8080/",
          "height": 644
        },
        "id": "bgqKvah83ko4",
        "outputId": "1f907c7a-d7c9-41dd-961b-754ad196af7d"
      },
      "execution_count": 267,
      "outputs": [
        {
          "output_type": "execute_result",
          "data": {
            "text/plain": [
              "Text(0.5, 1.0, 'Оценка работы алгоритмов')"
            ]
          },
          "metadata": {},
          "execution_count": 267
        },
        {
          "output_type": "display_data",
          "data": {
            "image/png": "[encoded data removed]",
            "text/plain": [
              "<Figure size 1440x720 with 1 Axes>"
            ]
          },
          "metadata": {}
        }
      ]
    }
  ]
}